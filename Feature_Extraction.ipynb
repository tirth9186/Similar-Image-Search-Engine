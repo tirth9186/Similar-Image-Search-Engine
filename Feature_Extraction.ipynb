{
  "nbformat": 4,
  "nbformat_minor": 0,
  "metadata": {
    "colab": {
      "name": "Feature_Extraction.ipynb",
      "provenance": [],
      "collapsed_sections": []
    },
    "kernelspec": {
      "name": "python3",
      "display_name": "Python 3"
    },
    "accelerator": "GPU"
  },
  "cells": [
    {
      "cell_type": "code",
      "metadata": {
        "id": "BdxT307NLl1x"
      },
      "source": [
        "!pip3 install tensorflow-gpu"
      ],
      "execution_count": null,
      "outputs": []
    },
    {
      "cell_type": "code",
      "metadata": {
        "id": "A2vLV71UMyOE",
        "outputId": "d7c0f140-b123-45f0-d539-4d1e0414e913",
        "colab": {
          "base_uri": "https://localhost:8080/",
          "height": 35
        }
      },
      "source": [
        "import tensorflow as tf\n",
        "tf.__version__  "
      ],
      "execution_count": null,
      "outputs": [
        {
          "output_type": "execute_result",
          "data": {
            "application/vnd.google.colaboratory.intrinsic+json": {
              "type": "string"
            },
            "text/plain": [
              "'2.3.0'"
            ]
          },
          "metadata": {
            "tags": []
          },
          "execution_count": 2
        }
      ]
    },
    {
      "cell_type": "code",
      "metadata": {
        "id": "kKDJP7KxJzWZ",
        "outputId": "a6807cbc-a445-4661-e217-9b254e930f51",
        "colab": {
          "base_uri": "https://localhost:8080/",
          "height": 118
        }
      },
      "source": [
        "from google.colab import drive\n",
        "drive.mount('/content/drive')"
      ],
      "execution_count": null,
      "outputs": [
        {
          "output_type": "stream",
          "text": [
            "Go to this URL in a browser: https://accounts.google.com/o/oauth2/auth?client_id=947318989803-6bn6qk8qdgf4n4g3pfee6491hc0brc4i.apps.googleusercontent.com&redirect_uri=urn%3aietf%3awg%3aoauth%3a2.0%3aoob&scope=email%20https%3a%2f%2fwww.googleapis.com%2fauth%2fdocs.test%20https%3a%2f%2fwww.googleapis.com%2fauth%2fdrive%20https%3a%2f%2fwww.googleapis.com%2fauth%2fdrive.photos.readonly%20https%3a%2f%2fwww.googleapis.com%2fauth%2fpeopleapi.readonly&response_type=code\n",
            "\n",
            "Enter your authorization code:\n",
            "··········\n",
            "Mounted at /content/drive\n"
          ],
          "name": "stdout"
        }
      ]
    },
    {
      "cell_type": "code",
      "metadata": {
        "id": "go8Q14piiaqW"
      },
      "source": [
        "from os import listdir\n",
        "from pickle import dump\n",
        "import sys\n",
        "from tensorflow.keras.applications.resnet50 import ResNet50,preprocess_input\n",
        "from tensorflow.keras.preprocessing.image import load_img,img_to_array\n",
        "from tensorflow.keras.models import Model\n",
        "from tensorflow.keras.layers import Input"
      ],
      "execution_count": null,
      "outputs": []
    },
    {
      "cell_type": "code",
      "metadata": {
        "id": "bChyA5nCW6kf"
      },
      "source": [
        "def write_status(i, total):\n",
        "    sys.stdout.write('\\r')\n",
        "    sys.stdout.write('Processing %d/%d' % (i, total))\n",
        "    sys.stdout.flush()"
      ],
      "execution_count": null,
      "outputs": []
    },
    {
      "cell_type": "code",
      "metadata": {
        "id": "OWs2-kzyjIsz"
      },
      "source": [
        "def extract_features(directory):\n",
        "    new_input = Input(shape=(224,224,3))\n",
        "    model = ResNet50(include_top=False,input_tensor=new_input,pooling='avg')\n",
        "    model = Model(inputs = model.inputs,outputs = model.layers[-1].output)\n",
        "    features = dict()\n",
        "    i=1\n",
        "    for name in listdir(directory):\n",
        "        print(\"name = \",name)\n",
        "        break\n",
        "        filename = directory + '/' + name\n",
        "        image = load_img(filename,target_size = (224,224,3))\n",
        "        image = img_to_array(image)\n",
        "        # print(\"1\",image.shape)\n",
        "        image = image.reshape(1,image.shape[0],image.shape[1],image.shape[2])\n",
        "        # print(\"2\",image.shape)\n",
        "        image = preprocess_input(image)\n",
        "        # print(\"3\",image.shape)\n",
        "        feature = model.predict(image,verbose=0)\n",
        "        # print(\"shape = \",feature.shape)\n",
        "        image_id = name.split('.')[0]\n",
        "        features[image_id] = feature\n",
        "        write_status(i,len(listdir(directory)))\n",
        "        i = i+1\n",
        "    return features"
      ],
      "execution_count": null,
      "outputs": []
    },
    {
      "cell_type": "code",
      "metadata": {
        "id": "z1-TfDytlcRz",
        "outputId": "cf1d4eac-f2a7-43fb-af89-c5e5b79e08e6",
        "colab": {
          "base_uri": "https://localhost:8080/",
          "height": 33
        }
      },
      "source": [
        "directory = '/content/drive/My Drive/College/IRS Innovative/flicker8k-dataset/Flickr8k_Dataset/Flicker8k_Dataset'\n",
        "features = extract_features(directory)\n",
        "dump(features, open('/content/drive/My Drive/College/IRS Innovative/flicker8k-dataset/Flickr8k_Dataset/2048_features_resnet.pkl','wb'))"
      ],
      "execution_count": null,
      "outputs": [
        {
          "output_type": "stream",
          "text": [
            "Processing 8091/8091"
          ],
          "name": "stdout"
        }
      ]
    },
    {
      "cell_type": "code",
      "metadata": {
        "id": "IqCPdKlnMg0a",
        "outputId": "206f4ed0-a009-4e78-877f-8e6c7b6da879",
        "colab": {
          "base_uri": "https://localhost:8080/",
          "height": 33
        }
      },
      "source": [
        "print('Extracted features: %d' %len(features))"
      ],
      "execution_count": null,
      "outputs": [
        {
          "output_type": "stream",
          "text": [
            "Extracted features: 8091\n"
          ],
          "name": "stdout"
        }
      ]
    },
    {
      "cell_type": "code",
      "metadata": {
        "id": "FUwf_da4KYJt"
      },
      "source": [
        ""
      ],
      "execution_count": null,
      "outputs": []
    }
  ]
}